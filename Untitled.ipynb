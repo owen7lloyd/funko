{
 "cells": [
  {
   "cell_type": "markdown",
   "id": "5db18295",
   "metadata": {
    "toc": true
   },
   "source": [
    "<h1>Table of Contents<span class=\"tocSkip\"></span></h1>\n",
    "<div class=\"toc\"><ul class=\"toc-item\"></ul></div>"
   ]
  },
  {
   "cell_type": "code",
   "execution_count": 1,
   "id": "051519c0",
   "metadata": {
    "ExecuteTime": {
     "end_time": "2022-06-29T03:56:25.052779Z",
     "start_time": "2022-06-29T03:56:24.903541Z"
    }
   },
   "outputs": [],
   "source": [
    "import requests\n",
    "from bs4 import BeautifulSoup"
   ]
  },
  {
   "cell_type": "code",
   "execution_count": 24,
   "id": "16735daf",
   "metadata": {
    "ExecuteTime": {
     "end_time": "2022-06-29T04:02:04.962058Z",
     "start_time": "2022-06-29T04:02:04.620455Z"
    }
   },
   "outputs": [],
   "source": [
    "URL = \"https://popvinyls.com/funko-pop-vinyls-series/\"\n",
    "headers = {\n",
    "    \"User-Agent\": \"Mozilla/5.0 (Macintosh; Intel Mac OS X 10_15_7) AppleWebKit/537.36 (KHTML, like Gecko) Chrome/103.0.0.0 Safari/537.36\"\n",
    "}\n",
    "page = requests.get(URL, headers=headers)"
   ]
  },
  {
   "cell_type": "code",
   "execution_count": 25,
   "id": "22d3946a",
   "metadata": {
    "ExecuteTime": {
     "end_time": "2022-06-29T04:02:05.511573Z",
     "start_time": "2022-06-29T04:02:05.290454Z"
    }
   },
   "outputs": [],
   "source": [
    "soup = BeautifulSoup(page.content, \"html.parser\")\n",
    "results = soup.find(id=\"post-2\")"
   ]
  },
  {
   "cell_type": "code",
   "execution_count": 38,
   "id": "79f9a771",
   "metadata": {
    "ExecuteTime": {
     "end_time": "2022-06-29T04:25:41.154672Z",
     "start_time": "2022-06-29T04:25:41.149199Z"
    }
   },
   "outputs": [],
   "source": [
    "links = [a[\"href\"] for a in results.find_all(\"a\", href=True)][1:-1]"
   ]
  },
  {
   "cell_type": "code",
   "execution_count": 72,
   "id": "9961d7ed",
   "metadata": {
    "ExecuteTime": {
     "end_time": "2022-06-29T04:38:25.492964Z",
     "start_time": "2022-06-29T04:38:25.486315Z"
    }
   },
   "outputs": [],
   "source": [
    "splits = [\n",
    "    \"https://popvinyls.com/\",\n",
    "    \"funkopopvinylsseries\",\n",
    "    \"funkopopvinylsseries\",\n",
    "    \"marvel-pop\",\n",
    "    \"funko-pop-vinyls-series\",\n",
    "]\n",
    "\n",
    "def get_brand(link):\n",
    "    for split in splits:\n",
    "        link = link.split(split)[-1]\n",
    "    return link.replace('-', ' ').replace('/', \" \").strip().title()\n",
    "\n",
    "brands = {get_brand(link): link for link in links}"
   ]
  },
  {
   "cell_type": "code",
   "execution_count": 125,
   "id": "947edff0",
   "metadata": {
    "ExecuteTime": {
     "end_time": "2022-06-29T05:05:30.995501Z",
     "start_time": "2022-06-29T05:05:30.991672Z"
    }
   },
   "outputs": [],
   "source": [
    "link = 'https://popvinyls.com/funko-pop-vinyls-series/wwe-pop-series/'"
   ]
  },
  {
   "cell_type": "code",
   "execution_count": 147,
   "id": "79e173da",
   "metadata": {
    "ExecuteTime": {
     "end_time": "2022-06-30T04:26:11.510606Z",
     "start_time": "2022-06-30T04:26:11.492954Z"
    }
   },
   "outputs": [],
   "source": [
    "from itertools import chain\n",
    "\n",
    "def get_pops(link):\n",
    "    soup = BeautifulSoup(requests.get(link, headers=headers).content, \"html.parser\")\n",
    "    items_html = soup.find_all(\"div\", class_=\"entry-content clearfix\")[0].find_all(\n",
    "        \"figure\", class_=\"gallery-item\"\n",
    "    )\n",
    "    if len(items_html) == 0:\n",
    "        pages_links = [\n",
    "            a[\"href\"]\n",
    "            for a in soup.find_all(\"div\", class_=\"entry-content clearfix\")[0].find_all(\n",
    "                \"a\", href=True\n",
    "            )\n",
    "        ]\n",
    "        pop_lists = [get_pops(page_link) for page_link in pages_links]\n",
    "        return list(chain(*pop_lists))\n",
    "\n",
    "    pops = [\n",
    "        item.find(\"figcaption\").contents[0].strip()\n",
    "        for item in items_html\n",
    "        if item.find(\"figcaption\") is not None\n",
    "    ]\n",
    "    return pops"
   ]
  },
  {
   "cell_type": "code",
   "execution_count": 150,
   "id": "f7ccf6fd",
   "metadata": {
    "ExecuteTime": {
     "end_time": "2022-06-30T04:28:09.572073Z",
     "start_time": "2022-06-30T04:27:19.757540Z"
    }
   },
   "outputs": [],
   "source": [
    "pops = dict()\n",
    "\n",
    "for brand, link in brands.items():\n",
    "    pops[brand] = get_pops(link)"
   ]
  },
  {
   "cell_type": "code",
   "execution_count": 151,
   "id": "4ff7a229",
   "metadata": {
    "ExecuteTime": {
     "end_time": "2022-06-30T04:28:38.576990Z",
     "start_time": "2022-06-30T04:28:38.569664Z"
    }
   },
   "outputs": [
    {
     "data": {
      "text/plain": [
       "7951"
      ]
     },
     "execution_count": 151,
     "metadata": {},
     "output_type": "execute_result"
    }
   ],
   "source": [
    "sum([len(v) for k, v in pops.items()])"
   ]
  },
  {
   "cell_type": "code",
   "execution_count": null,
   "id": "41c358d0",
   "metadata": {},
   "outputs": [],
   "source": []
  }
 ],
 "metadata": {
  "kernelspec": {
   "display_name": "Python 3 (ipykernel)",
   "language": "python",
   "name": "python3"
  },
  "language_info": {
   "codemirror_mode": {
    "name": "ipython",
    "version": 3
   },
   "file_extension": ".py",
   "mimetype": "text/x-python",
   "name": "python",
   "nbconvert_exporter": "python",
   "pygments_lexer": "ipython3",
   "version": "3.10.4"
  },
  "toc": {
   "base_numbering": 1,
   "nav_menu": {},
   "number_sections": false,
   "sideBar": false,
   "skip_h1_title": false,
   "title_cell": "Table of Contents",
   "title_sidebar": "Contents",
   "toc_cell": true,
   "toc_position": {},
   "toc_section_display": true,
   "toc_window_display": false
  }
 },
 "nbformat": 4,
 "nbformat_minor": 5
}
